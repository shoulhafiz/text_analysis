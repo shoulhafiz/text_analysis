{
 "cells": [
  {
   "cell_type": "code",
   "execution_count": 1,
   "metadata": {},
   "outputs": [
    {
     "name": "stderr",
     "output_type": "stream",
     "text": [
      "[nltk_data] Downloading package stopwords to\n",
      "[nltk_data]     C:\\Users\\shoulhafiz\\AppData\\Roaming\\nltk_data...\n",
      "[nltk_data]   Package stopwords is already up-to-date!\n",
      "[nltk_data] Downloading package punkt to\n",
      "[nltk_data]     C:\\Users\\shoulhafiz\\AppData\\Roaming\\nltk_data...\n",
      "[nltk_data]   Package punkt is already up-to-date!\n",
      "[nltk_data] Downloading package wordnet to\n",
      "[nltk_data]     C:\\Users\\shoulhafiz\\AppData\\Roaming\\nltk_data...\n",
      "[nltk_data]   Package wordnet is already up-to-date!\n"
     ]
    }
   ],
   "source": [
    "import pandas as pd\n",
    "from google.oauth2 import service_account\n",
    "from google.cloud import bigquery\n",
    "import config\n",
    "import text2emotion as te"
   ]
  },
  {
   "cell_type": "code",
   "execution_count": 2,
   "metadata": {},
   "outputs": [],
   "source": [
    "BQ_KEY_LOCATION = config.BQ_KEY_LOCATION"
   ]
  },
  {
   "cell_type": "code",
   "execution_count": 3,
   "metadata": {},
   "outputs": [],
   "source": [
    "credentials = service_account.Credentials.from_service_account_file(BQ_KEY_LOCATION)\n",
    "bqclient= bigquery.Client(credentials = credentials,project=\"mpdbq1\")"
   ]
  },
  {
   "cell_type": "code",
   "execution_count": 4,
   "metadata": {},
   "outputs": [],
   "source": [
    "query='select * from mpdbq1.nst_says.data_90days'"
   ]
  },
  {
   "cell_type": "code",
   "execution_count": 5,
   "metadata": {},
   "outputs": [],
   "source": [
    "    df = (\n",
    "    bqclient.query(query)\n",
    "    .result()\n",
    "    .to_dataframe(\n",
    "        create_bqstorage_client=True,)\n",
    ")"
   ]
  },
  {
   "cell_type": "code",
   "execution_count": 6,
   "metadata": {},
   "outputs": [
    {
     "data": {
      "text/html": [
       "<div>\n",
       "<style scoped>\n",
       "    .dataframe tbody tr th:only-of-type {\n",
       "        vertical-align: middle;\n",
       "    }\n",
       "\n",
       "    .dataframe tbody tr th {\n",
       "        vertical-align: top;\n",
       "    }\n",
       "\n",
       "    .dataframe thead th {\n",
       "        text-align: right;\n",
       "    }\n",
       "</style>\n",
       "<table border=\"1\" class=\"dataframe\">\n",
       "  <thead>\n",
       "    <tr style=\"text-align: right;\">\n",
       "      <th></th>\n",
       "      <th>articleID</th>\n",
       "      <th>articleDate</th>\n",
       "      <th>title</th>\n",
       "      <th>url</th>\n",
       "    </tr>\n",
       "  </thead>\n",
       "  <tbody>\n",
       "    <tr>\n",
       "      <th>0</th>\n",
       "      <td>693166</td>\n",
       "      <td>2021-05-26</td>\n",
       "      <td>What to do if you terminate your employment</td>\n",
       "      <td>https://www.nst.com.my/news/nation/2021/05/693...</td>\n",
       "    </tr>\n",
       "    <tr>\n",
       "      <th>1</th>\n",
       "      <td>693270</td>\n",
       "      <td>2021-05-26</td>\n",
       "      <td>Stay home but try to get vaccinated too</td>\n",
       "      <td>https://www.nst.com.my/opinion/letters/2021/05...</td>\n",
       "    </tr>\n",
       "    <tr>\n",
       "      <th>2</th>\n",
       "      <td>693312</td>\n",
       "      <td>2021-05-26</td>\n",
       "      <td>No peace until Israel military withdraws from ...</td>\n",
       "      <td>https://www.nst.com.my/opinion/letters/2021/05...</td>\n",
       "    </tr>\n",
       "    <tr>\n",
       "      <th>3</th>\n",
       "      <td>693320</td>\n",
       "      <td>2021-05-26</td>\n",
       "      <td>A true friend tells the truth no matter how ha...</td>\n",
       "      <td>https://www.nst.com.my/opinion/letters/2021/05...</td>\n",
       "    </tr>\n",
       "    <tr>\n",
       "      <th>4</th>\n",
       "      <td>693157</td>\n",
       "      <td>2021-05-26</td>\n",
       "      <td>New York prosecutors probing Trump form grand ...</td>\n",
       "      <td>https://www.nst.com.my/world/world/2021/05/693...</td>\n",
       "    </tr>\n",
       "  </tbody>\n",
       "</table>\n",
       "</div>"
      ],
      "text/plain": [
       "   articleID articleDate                                              title  \\\n",
       "0     693166  2021-05-26        What to do if you terminate your employment   \n",
       "1     693270  2021-05-26            Stay home but try to get vaccinated too   \n",
       "2     693312  2021-05-26  No peace until Israel military withdraws from ...   \n",
       "3     693320  2021-05-26  A true friend tells the truth no matter how ha...   \n",
       "4     693157  2021-05-26  New York prosecutors probing Trump form grand ...   \n",
       "\n",
       "                                                 url  \n",
       "0  https://www.nst.com.my/news/nation/2021/05/693...  \n",
       "1  https://www.nst.com.my/opinion/letters/2021/05...  \n",
       "2  https://www.nst.com.my/opinion/letters/2021/05...  \n",
       "3  https://www.nst.com.my/opinion/letters/2021/05...  \n",
       "4  https://www.nst.com.my/world/world/2021/05/693...  "
      ]
     },
     "execution_count": 6,
     "metadata": {},
     "output_type": "execute_result"
    }
   ],
   "source": [
    "df.head()"
   ]
  },
  {
   "cell_type": "code",
   "execution_count": 7,
   "metadata": {},
   "outputs": [],
   "source": [
    "# pip install text2emotion"
   ]
  },
  {
   "cell_type": "code",
   "execution_count": 8,
   "metadata": {},
   "outputs": [],
   "source": [
    "df['emotion'] =  df['title'].apply(te.get_emotion)"
   ]
  },
  {
   "cell_type": "code",
   "execution_count": 16,
   "metadata": {},
   "outputs": [
    {
     "data": {
      "text/html": [
       "<div>\n",
       "<style scoped>\n",
       "    .dataframe tbody tr th:only-of-type {\n",
       "        vertical-align: middle;\n",
       "    }\n",
       "\n",
       "    .dataframe tbody tr th {\n",
       "        vertical-align: top;\n",
       "    }\n",
       "\n",
       "    .dataframe thead th {\n",
       "        text-align: right;\n",
       "    }\n",
       "</style>\n",
       "<table border=\"1\" class=\"dataframe\">\n",
       "  <thead>\n",
       "    <tr style=\"text-align: right;\">\n",
       "      <th></th>\n",
       "      <th>articleID</th>\n",
       "      <th>articleDate</th>\n",
       "      <th>title</th>\n",
       "      <th>url</th>\n",
       "      <th>emotion</th>\n",
       "      <th>emotion_happy</th>\n",
       "      <th>emotion_angry</th>\n",
       "      <th>emotion_surprise</th>\n",
       "      <th>emotion_sad</th>\n",
       "      <th>emotion_fear</th>\n",
       "    </tr>\n",
       "  </thead>\n",
       "  <tbody>\n",
       "    <tr>\n",
       "      <th>7</th>\n",
       "      <td>693168</td>\n",
       "      <td>2021-05-26</td>\n",
       "      <td>Mafia boss captured in Brazil will be extradit...</td>\n",
       "      <td>https://www.nst.com.my/world/world/2021/05/693...</td>\n",
       "      <td>{'Happy': 1.0, 'Angry': 0.0, 'Surprise': 0.0, ...</td>\n",
       "      <td>1.0</td>\n",
       "      <td>0.0</td>\n",
       "      <td>0.0</td>\n",
       "      <td>0.0</td>\n",
       "      <td>0.0</td>\n",
       "    </tr>\n",
       "    <tr>\n",
       "      <th>17</th>\n",
       "      <td>693184</td>\n",
       "      <td>2021-05-26</td>\n",
       "      <td>'Superstar' Foden formed by love of football a...</td>\n",
       "      <td>https://www.nst.com.my/sports/football/2021/05...</td>\n",
       "      <td>{'Happy': 1.0, 'Angry': 0.0, 'Surprise': 0.0, ...</td>\n",
       "      <td>1.0</td>\n",
       "      <td>0.0</td>\n",
       "      <td>0.0</td>\n",
       "      <td>0.0</td>\n",
       "      <td>0.0</td>\n",
       "    </tr>\n",
       "    <tr>\n",
       "      <th>22</th>\n",
       "      <td>693212</td>\n",
       "      <td>2021-05-26</td>\n",
       "      <td>Coach Galtier quits new French champions Lille</td>\n",
       "      <td>https://www.nst.com.my/sports/football/2021/05...</td>\n",
       "      <td>{'Happy': 1.0, 'Angry': 0.0, 'Surprise': 0.0, ...</td>\n",
       "      <td>1.0</td>\n",
       "      <td>0.0</td>\n",
       "      <td>0.0</td>\n",
       "      <td>0.0</td>\n",
       "      <td>0.0</td>\n",
       "    </tr>\n",
       "    <tr>\n",
       "      <th>24</th>\n",
       "      <td>693237</td>\n",
       "      <td>2021-05-26</td>\n",
       "      <td>Japan newspaper sponsoring Tokyo Olympics urge...</td>\n",
       "      <td>https://www.nst.com.my/sports/others/2021/05/6...</td>\n",
       "      <td>{'Happy': 1.0, 'Angry': 0.0, 'Surprise': 0.0, ...</td>\n",
       "      <td>1.0</td>\n",
       "      <td>0.0</td>\n",
       "      <td>0.0</td>\n",
       "      <td>0.0</td>\n",
       "      <td>0.0</td>\n",
       "    </tr>\n",
       "    <tr>\n",
       "      <th>25</th>\n",
       "      <td>693197</td>\n",
       "      <td>2021-05-26</td>\n",
       "      <td>King, Queen extend Wesak Day greetings to all ...</td>\n",
       "      <td>https://www.nst.com.my/news/nation/2021/05/693...</td>\n",
       "      <td>{'Happy': 1.0, 'Angry': 0.0, 'Surprise': 0.0, ...</td>\n",
       "      <td>1.0</td>\n",
       "      <td>0.0</td>\n",
       "      <td>0.0</td>\n",
       "      <td>0.0</td>\n",
       "      <td>0.0</td>\n",
       "    </tr>\n",
       "    <tr>\n",
       "      <th>...</th>\n",
       "      <td>...</td>\n",
       "      <td>...</td>\n",
       "      <td>...</td>\n",
       "      <td>...</td>\n",
       "      <td>...</td>\n",
       "      <td>...</td>\n",
       "      <td>...</td>\n",
       "      <td>...</td>\n",
       "      <td>...</td>\n",
       "      <td>...</td>\n",
       "    </tr>\n",
       "    <tr>\n",
       "      <th>10651</th>\n",
       "      <td>720563</td>\n",
       "      <td>2021-08-23</td>\n",
       "      <td>Alor Pongsu R&amp;R still closed due to floods</td>\n",
       "      <td>https://www.nst.com.my/news/nation/2021/08/720...</td>\n",
       "      <td>{'Happy': 1.0, 'Angry': 0.0, 'Surprise': 0.0, ...</td>\n",
       "      <td>1.0</td>\n",
       "      <td>0.0</td>\n",
       "      <td>0.0</td>\n",
       "      <td>0.0</td>\n",
       "      <td>0.0</td>\n",
       "    </tr>\n",
       "    <tr>\n",
       "      <th>10662</th>\n",
       "      <td>720341</td>\n",
       "      <td>2021-08-23</td>\n",
       "      <td>Leon Fuat upbeat about steel industry</td>\n",
       "      <td>https://www.nst.com.my/business/2021/08/720341...</td>\n",
       "      <td>{'Happy': 1.0, 'Angry': 0.0, 'Surprise': 0.0, ...</td>\n",
       "      <td>1.0</td>\n",
       "      <td>0.0</td>\n",
       "      <td>0.0</td>\n",
       "      <td>0.0</td>\n",
       "      <td>0.0</td>\n",
       "    </tr>\n",
       "    <tr>\n",
       "      <th>10675</th>\n",
       "      <td>720448</td>\n",
       "      <td>2021-08-23</td>\n",
       "      <td>Regulate nicotine vapes to protect consumers: ...</td>\n",
       "      <td>https://www.nst.com.my/business/2021/08/720448...</td>\n",
       "      <td>{'Happy': 1.0, 'Angry': 0.0, 'Surprise': 0.0, ...</td>\n",
       "      <td>1.0</td>\n",
       "      <td>0.0</td>\n",
       "      <td>0.0</td>\n",
       "      <td>0.0</td>\n",
       "      <td>0.0</td>\n",
       "    </tr>\n",
       "    <tr>\n",
       "      <th>10707</th>\n",
       "      <td>720251</td>\n",
       "      <td>2021-08-23</td>\n",
       "      <td>Para athletes 'pumped up and eager'</td>\n",
       "      <td>https://www.nst.com.my/sports/others/2021/08/7...</td>\n",
       "      <td>{'Happy': 1.0, 'Angry': 0.0, 'Surprise': 0.0, ...</td>\n",
       "      <td>1.0</td>\n",
       "      <td>0.0</td>\n",
       "      <td>0.0</td>\n",
       "      <td>0.0</td>\n",
       "      <td>0.0</td>\n",
       "    </tr>\n",
       "    <tr>\n",
       "      <th>10708</th>\n",
       "      <td>720255</td>\n",
       "      <td>2021-08-23</td>\n",
       "      <td>Happy to be in the US</td>\n",
       "      <td>https://www.nst.com.my/sports/others/2021/08/7...</td>\n",
       "      <td>{'Happy': 1.0, 'Angry': 0.0, 'Surprise': 0.0, ...</td>\n",
       "      <td>1.0</td>\n",
       "      <td>0.0</td>\n",
       "      <td>0.0</td>\n",
       "      <td>0.0</td>\n",
       "      <td>0.0</td>\n",
       "    </tr>\n",
       "  </tbody>\n",
       "</table>\n",
       "<p>558 rows × 10 columns</p>\n",
       "</div>"
      ],
      "text/plain": [
       "       articleID articleDate  \\\n",
       "7         693168  2021-05-26   \n",
       "17        693184  2021-05-26   \n",
       "22        693212  2021-05-26   \n",
       "24        693237  2021-05-26   \n",
       "25        693197  2021-05-26   \n",
       "...          ...         ...   \n",
       "10651     720563  2021-08-23   \n",
       "10662     720341  2021-08-23   \n",
       "10675     720448  2021-08-23   \n",
       "10707     720251  2021-08-23   \n",
       "10708     720255  2021-08-23   \n",
       "\n",
       "                                                   title  \\\n",
       "7      Mafia boss captured in Brazil will be extradit...   \n",
       "17     'Superstar' Foden formed by love of football a...   \n",
       "22        Coach Galtier quits new French champions Lille   \n",
       "24     Japan newspaper sponsoring Tokyo Olympics urge...   \n",
       "25     King, Queen extend Wesak Day greetings to all ...   \n",
       "...                                                  ...   \n",
       "10651         Alor Pongsu R&R still closed due to floods   \n",
       "10662              Leon Fuat upbeat about steel industry   \n",
       "10675  Regulate nicotine vapes to protect consumers: ...   \n",
       "10707                Para athletes 'pumped up and eager'   \n",
       "10708                              Happy to be in the US   \n",
       "\n",
       "                                                     url  \\\n",
       "7      https://www.nst.com.my/world/world/2021/05/693...   \n",
       "17     https://www.nst.com.my/sports/football/2021/05...   \n",
       "22     https://www.nst.com.my/sports/football/2021/05...   \n",
       "24     https://www.nst.com.my/sports/others/2021/05/6...   \n",
       "25     https://www.nst.com.my/news/nation/2021/05/693...   \n",
       "...                                                  ...   \n",
       "10651  https://www.nst.com.my/news/nation/2021/08/720...   \n",
       "10662  https://www.nst.com.my/business/2021/08/720341...   \n",
       "10675  https://www.nst.com.my/business/2021/08/720448...   \n",
       "10707  https://www.nst.com.my/sports/others/2021/08/7...   \n",
       "10708  https://www.nst.com.my/sports/others/2021/08/7...   \n",
       "\n",
       "                                                 emotion  emotion_happy  \\\n",
       "7      {'Happy': 1.0, 'Angry': 0.0, 'Surprise': 0.0, ...            1.0   \n",
       "17     {'Happy': 1.0, 'Angry': 0.0, 'Surprise': 0.0, ...            1.0   \n",
       "22     {'Happy': 1.0, 'Angry': 0.0, 'Surprise': 0.0, ...            1.0   \n",
       "24     {'Happy': 1.0, 'Angry': 0.0, 'Surprise': 0.0, ...            1.0   \n",
       "25     {'Happy': 1.0, 'Angry': 0.0, 'Surprise': 0.0, ...            1.0   \n",
       "...                                                  ...            ...   \n",
       "10651  {'Happy': 1.0, 'Angry': 0.0, 'Surprise': 0.0, ...            1.0   \n",
       "10662  {'Happy': 1.0, 'Angry': 0.0, 'Surprise': 0.0, ...            1.0   \n",
       "10675  {'Happy': 1.0, 'Angry': 0.0, 'Surprise': 0.0, ...            1.0   \n",
       "10707  {'Happy': 1.0, 'Angry': 0.0, 'Surprise': 0.0, ...            1.0   \n",
       "10708  {'Happy': 1.0, 'Angry': 0.0, 'Surprise': 0.0, ...            1.0   \n",
       "\n",
       "       emotion_angry  emotion_surprise  emotion_sad  emotion_fear  \n",
       "7                0.0               0.0          0.0           0.0  \n",
       "17               0.0               0.0          0.0           0.0  \n",
       "22               0.0               0.0          0.0           0.0  \n",
       "24               0.0               0.0          0.0           0.0  \n",
       "25               0.0               0.0          0.0           0.0  \n",
       "...              ...               ...          ...           ...  \n",
       "10651            0.0               0.0          0.0           0.0  \n",
       "10662            0.0               0.0          0.0           0.0  \n",
       "10675            0.0               0.0          0.0           0.0  \n",
       "10707            0.0               0.0          0.0           0.0  \n",
       "10708            0.0               0.0          0.0           0.0  \n",
       "\n",
       "[558 rows x 10 columns]"
      ]
     },
     "execution_count": 16,
     "metadata": {},
     "output_type": "execute_result"
    }
   ],
   "source": [
    "df.loc[df['emotion_happy']>0.5]\n",
    "#df.head()"
   ]
  },
  {
   "cell_type": "code",
   "execution_count": 10,
   "metadata": {},
   "outputs": [
    {
     "data": {
      "text/plain": [
       "{'Happy': 0.0, 'Angry': 0.0, 'Surprise': 0.5, 'Sad': 0.0, 'Fear': 0.5}"
      ]
     },
     "execution_count": 10,
     "metadata": {},
     "output_type": "execute_result"
    }
   ],
   "source": [
    "te.get_emotion('Two Immigration officers fined for corruption')"
   ]
  },
  {
   "cell_type": "code",
   "execution_count": 11,
   "metadata": {},
   "outputs": [],
   "source": [
    "df['emotion_happy'] = [d.get('Happy') for d in df.emotion]"
   ]
  },
  {
   "cell_type": "code",
   "execution_count": 12,
   "metadata": {},
   "outputs": [],
   "source": [
    "df['emotion_angry'] = [d.get('Angry') for d in df.emotion]"
   ]
  },
  {
   "cell_type": "code",
   "execution_count": 13,
   "metadata": {},
   "outputs": [],
   "source": [
    "df['emotion_surprise'] = [d.get('Surprise') for d in df.emotion]"
   ]
  },
  {
   "cell_type": "code",
   "execution_count": 14,
   "metadata": {},
   "outputs": [],
   "source": [
    "df['emotion_sad'] = [d.get('Sad') for d in df.emotion]"
   ]
  },
  {
   "cell_type": "code",
   "execution_count": 15,
   "metadata": {},
   "outputs": [],
   "source": [
    "df['emotion_fear'] = [d.get('Fear') for d in df.emotion]"
   ]
  }
 ],
 "metadata": {
  "interpreter": {
   "hash": "e952a58ea0970d35ddf48547c8a7953f5ec82ed611dc362f1f69cc78713792a6"
  },
  "kernelspec": {
   "display_name": "Python 3.9.7 ('base')",
   "language": "python",
   "name": "python3"
  },
  "language_info": {
   "codemirror_mode": {
    "name": "ipython",
    "version": 3
   },
   "file_extension": ".py",
   "mimetype": "text/x-python",
   "name": "python",
   "nbconvert_exporter": "python",
   "pygments_lexer": "ipython3",
   "version": "3.9.7"
  },
  "orig_nbformat": 4
 },
 "nbformat": 4,
 "nbformat_minor": 2
}
